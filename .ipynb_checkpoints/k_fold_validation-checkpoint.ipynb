{
 "cells": [
  {
   "cell_type": "code",
   "execution_count": 1,
   "metadata": {},
   "outputs": [],
   "source": [
    "import numpy as np\n",
    "from sklearn import datasets"
   ]
  },
  {
   "cell_type": "code",
   "execution_count": 2,
   "metadata": {},
   "outputs": [],
   "source": [
    "class k_fold():\n",
    "    def __init__(self, k=5):\n",
    "        self.k = k\n",
    "        \n",
    "    def fit(self,X, y, model):\n",
    "        m = len(X)\n",
    "        k = self.k\n",
    "        n = m//k\n",
    "        d_i = {}\n",
    "        indices = [j for j in range(m)]\n",
    "        np.random.shuffle(indices)\n",
    "        for i in range(k-1):\n",
    "            d_i[i] = indices[i*n:(i+1)*n]\n",
    "        d_i[k-1] = indices[(k-1)*n:]\n",
    "        accuracies = []\n",
    "        for i in range(k):\n",
    "            model.fit(np.delete(X,d_i[i],axis=0), np.delete(y,d_i[i],axis=0))\n",
    "            pred = model.predict(X[d_i[i]])\n",
    "            accuracies.append((pred==y[d_i[i]]).mean())\n",
    "        return (np.array(accuracies)).mean()\n",
    "    \n",
    "\n"
   ]
  },
  {
   "cell_type": "code",
   "execution_count": 3,
   "metadata": {},
   "outputs": [
    {
     "data": {
      "text/plain": [
       "array([0, 0, 0, 0, 0, 0, 0, 0, 0, 0, 0, 0, 0, 0, 0, 0, 0, 0, 0, 0, 0, 0,\n",
       "       0, 0, 0, 0, 0, 0, 0, 0, 0, 0, 0, 0, 0, 0, 0, 0, 0, 0, 0, 0, 0, 0,\n",
       "       0, 0, 0, 0, 0, 0, 1, 1, 1, 1, 1, 1, 1, 1, 1, 1, 1, 1, 1, 1, 1, 1,\n",
       "       1, 1, 1, 1, 1, 1, 1, 1, 1, 1, 1, 1, 1, 1, 1, 1, 1, 1, 1, 1, 1, 1,\n",
       "       1, 1, 1, 1, 1, 1, 1, 1, 1, 1, 1, 1, 1, 1, 1, 1, 1, 1, 1, 1, 1, 1,\n",
       "       1, 1, 1, 1, 1, 1, 1, 1, 1, 1, 1, 1, 1, 1, 1, 1, 1, 1, 1, 1, 1, 1,\n",
       "       1, 1, 1, 1, 1, 1, 1, 1, 1, 1, 1, 1, 1, 1, 1, 1, 1, 1])"
      ]
     },
     "execution_count": 3,
     "metadata": {},
     "output_type": "execute_result"
    }
   ],
   "source": [
    "data = datasets.load_iris()\n",
    "X = data.data\n",
    "y = (data.target!=0)*1\n",
    "y"
   ]
  },
  {
   "cell_type": "code",
   "execution_count": 11,
   "metadata": {},
   "outputs": [],
   "source": [
    "from Models import logistic_regression as lreg"
   ]
  },
  {
   "cell_type": "code",
   "execution_count": null,
   "metadata": {},
   "outputs": [],
   "source": [
    "model = lreg.LogisticRegression(lr = .01)\n",
    "model.fit(X,y)"
   ]
  },
  {
   "cell_type": "code",
   "execution_count": null,
   "metadata": {},
   "outputs": [],
   "source": [
    "(model.predict(X, 0.5)==y).mean()"
   ]
  },
  {
   "cell_type": "code",
   "execution_count": 7,
   "metadata": {},
   "outputs": [],
   "source": [
    "kfold = k_fold()"
   ]
  },
  {
   "cell_type": "code",
   "execution_count": 8,
   "metadata": {},
   "outputs": [
    {
     "data": {
      "text/plain": [
       "1.0"
      ]
     },
     "execution_count": 8,
     "metadata": {},
     "output_type": "execute_result"
    }
   ],
   "source": [
    "kfold.fit(X,y,model)"
   ]
  },
  {
   "cell_type": "code",
   "execution_count": null,
   "metadata": {},
   "outputs": [],
   "source": []
  },
  {
   "cell_type": "code",
   "execution_count": null,
   "metadata": {},
   "outputs": [],
   "source": []
  },
  {
   "cell_type": "code",
   "execution_count": null,
   "metadata": {},
   "outputs": [],
   "source": []
  },
  {
   "cell_type": "code",
   "execution_count": null,
   "metadata": {},
   "outputs": [],
   "source": []
  },
  {
   "cell_type": "code",
   "execution_count": null,
   "metadata": {},
   "outputs": [],
   "source": []
  },
  {
   "cell_type": "code",
   "execution_count": null,
   "metadata": {},
   "outputs": [],
   "source": []
  },
  {
   "cell_type": "code",
   "execution_count": null,
   "metadata": {},
   "outputs": [],
   "source": []
  },
  {
   "cell_type": "code",
   "execution_count": null,
   "metadata": {},
   "outputs": [],
   "source": []
  },
  {
   "cell_type": "code",
   "execution_count": null,
   "metadata": {},
   "outputs": [],
   "source": []
  },
  {
   "cell_type": "code",
   "execution_count": null,
   "metadata": {},
   "outputs": [],
   "source": []
  },
  {
   "cell_type": "code",
   "execution_count": null,
   "metadata": {},
   "outputs": [],
   "source": []
  },
  {
   "cell_type": "code",
   "execution_count": null,
   "metadata": {},
   "outputs": [],
   "source": []
  },
  {
   "cell_type": "code",
   "execution_count": null,
   "metadata": {},
   "outputs": [],
   "source": []
  },
  {
   "cell_type": "code",
   "execution_count": null,
   "metadata": {},
   "outputs": [],
   "source": []
  },
  {
   "cell_type": "code",
   "execution_count": null,
   "metadata": {},
   "outputs": [],
   "source": []
  },
  {
   "cell_type": "code",
   "execution_count": 85,
   "metadata": {},
   "outputs": [
    {
     "name": "stdout",
     "output_type": "stream",
     "text": [
      "[14, 17, 10, 24, 3, 11, 23, 0, 20, 2, 22, 18, 12, 16, 13, 21, 15, 6, 19, 8, 5, 9, 1, 4, 7]\n"
     ]
    }
   ],
   "source": [
    "X = np.random.random((25,3))\n",
    "k = 5\n",
    "d_i = D_i(X,k)"
   ]
  },
  {
   "cell_type": "code",
   "execution_count": 86,
   "metadata": {},
   "outputs": [
    {
     "data": {
      "text/plain": [
       "{0: [14, 17, 10, 24, 3],\n",
       " 1: [11, 23, 0, 20, 2],\n",
       " 2: [22, 18, 12, 16, 13],\n",
       " 3: [21, 15, 6, 19, 8],\n",
       " 4: [5, 9, 1, 4, 7]}"
      ]
     },
     "execution_count": 86,
     "metadata": {},
     "output_type": "execute_result"
    }
   ],
   "source": [
    "d_i"
   ]
  },
  {
   "cell_type": "code",
   "execution_count": 87,
   "metadata": {},
   "outputs": [
    {
     "data": {
      "text/plain": [
       "array([[5.55022094e-01, 8.60825857e-02, 5.91770772e-01],\n",
       "       [5.29315123e-01, 9.62456343e-01, 2.07625741e-01],\n",
       "       [1.81695333e-01, 9.22023203e-01, 7.51448059e-01],\n",
       "       [5.54794694e-01, 5.68611426e-01, 3.98598850e-01],\n",
       "       [3.80491315e-01, 2.01499825e-01, 2.17041083e-02],\n",
       "       [8.26612069e-01, 1.08482174e-01, 8.70275404e-01],\n",
       "       [7.24741209e-01, 3.13412569e-01, 4.58961412e-01],\n",
       "       [5.35013335e-01, 5.88003953e-01, 1.44192447e-01],\n",
       "       [1.47732897e-02, 1.26625655e-01, 8.59294622e-01],\n",
       "       [2.79401729e-01, 9.44634072e-02, 1.04357048e-03],\n",
       "       [4.93093451e-01, 8.68297934e-01, 7.14514678e-02],\n",
       "       [4.18581409e-01, 7.15320207e-01, 8.95137607e-01],\n",
       "       [4.31272672e-01, 4.59717068e-01, 3.93343930e-01],\n",
       "       [5.79706778e-01, 1.99429362e-01, 3.44290151e-02],\n",
       "       [8.09373109e-01, 8.18069302e-02, 7.21171622e-02],\n",
       "       [8.19776688e-02, 1.36844792e-01, 4.91807691e-01],\n",
       "       [7.21038390e-01, 5.36441651e-01, 6.54788428e-01],\n",
       "       [1.65156426e-01, 2.41458132e-01, 6.18400505e-01],\n",
       "       [1.62886569e-02, 6.94354540e-01, 6.74292328e-01],\n",
       "       [7.26496999e-01, 4.14620433e-02, 6.93995144e-01],\n",
       "       [5.19678285e-01, 4.99983221e-01, 4.46002309e-01],\n",
       "       [7.87521557e-01, 7.86749529e-01, 6.39857241e-01],\n",
       "       [3.82285707e-01, 3.95321251e-01, 1.74328307e-01],\n",
       "       [3.20263426e-01, 3.46867770e-01, 3.66826104e-04],\n",
       "       [7.06356139e-01, 4.66947651e-01, 2.34974135e-01]])"
      ]
     },
     "execution_count": 87,
     "metadata": {},
     "output_type": "execute_result"
    }
   ],
   "source": [
    "X"
   ]
  },
  {
   "cell_type": "code",
   "execution_count": 88,
   "metadata": {},
   "outputs": [
    {
     "data": {
      "text/plain": [
       "(20, 3)"
      ]
     },
     "execution_count": 88,
     "metadata": {},
     "output_type": "execute_result"
    }
   ],
   "source": [
    "np.delete(X, [d_i[0]],axis=0 ).shape"
   ]
  },
  {
   "cell_type": "code",
   "execution_count": 89,
   "metadata": {},
   "outputs": [
    {
     "data": {
      "text/plain": [
       "array([[0.80937311, 0.08180693, 0.07211716],\n",
       "       [0.16515643, 0.24145813, 0.61840051],\n",
       "       [0.49309345, 0.86829793, 0.07145147],\n",
       "       [0.70635614, 0.46694765, 0.23497414],\n",
       "       [0.55479469, 0.56861143, 0.39859885]])"
      ]
     },
     "execution_count": 89,
     "metadata": {},
     "output_type": "execute_result"
    }
   ],
   "source": [
    "X[d_i[0]]"
   ]
  },
  {
   "cell_type": "code",
   "execution_count": 90,
   "metadata": {},
   "outputs": [],
   "source": [
    "y = np.array([i for i in range(20)]).reshape(-1,4)"
   ]
  },
  {
   "cell_type": "code",
   "execution_count": 91,
   "metadata": {},
   "outputs": [
    {
     "data": {
      "text/plain": [
       "array([[ 0,  1,  2,  3],\n",
       "       [ 4,  5,  6,  7],\n",
       "       [ 8,  9, 10, 11],\n",
       "       [12, 13, 14, 15],\n",
       "       [16, 17, 18, 19]])"
      ]
     },
     "execution_count": 91,
     "metadata": {},
     "output_type": "execute_result"
    }
   ],
   "source": [
    "y"
   ]
  },
  {
   "cell_type": "code",
   "execution_count": 92,
   "metadata": {},
   "outputs": [
    {
     "data": {
      "text/plain": [
       "array([[ 4,  5,  6,  7],\n",
       "       [ 8,  9, 10, 11],\n",
       "       [12, 13, 14, 15],\n",
       "       [16, 17, 18, 19]])"
      ]
     },
     "execution_count": 92,
     "metadata": {},
     "output_type": "execute_result"
    }
   ],
   "source": [
    "np.delete(y, [0],axis=0 )"
   ]
  },
  {
   "cell_type": "code",
   "execution_count": 76,
   "metadata": {},
   "outputs": [
    {
     "data": {
      "text/plain": [
       "0.05"
      ]
     },
     "execution_count": 76,
     "metadata": {},
     "output_type": "execute_result"
    }
   ],
   "source": []
  },
  {
   "cell_type": "code",
   "execution_count": 68,
   "metadata": {},
   "outputs": [
    {
     "data": {
      "text/plain": [
       "array([[ 0,  1,  2,  3],\n",
       "       [ 8,  9, 10, 11],\n",
       "       [16, 17, 18, 19]])"
      ]
     },
     "execution_count": 68,
     "metadata": {},
     "output_type": "execute_result"
    }
   ],
   "source": [
    "y[[0,2,4]]"
   ]
  },
  {
   "cell_type": "code",
   "execution_count": null,
   "metadata": {},
   "outputs": [],
   "source": []
  }
 ],
 "metadata": {
  "kernelspec": {
   "display_name": "Python 3",
   "language": "python",
   "name": "python3"
  },
  "language_info": {
   "codemirror_mode": {
    "name": "ipython",
    "version": 3
   },
   "file_extension": ".py",
   "mimetype": "text/x-python",
   "name": "python",
   "nbconvert_exporter": "python",
   "pygments_lexer": "ipython3",
   "version": "3.7.3"
  }
 },
 "nbformat": 4,
 "nbformat_minor": 2
}
