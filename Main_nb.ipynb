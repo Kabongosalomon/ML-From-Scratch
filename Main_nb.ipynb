{
 "cells": [
  {
   "cell_type": "markdown",
   "metadata": {},
   "source": [
    "# Importing some packages "
   ]
  },
  {
   "cell_type": "code",
   "execution_count": 29,
   "metadata": {},
   "outputs": [],
   "source": [
    "import numpy as np\n",
    "import seaborn as sns\n",
    "import pandas as pd\n",
    "from sklearn import datasets\n",
    "import ipdb"
   ]
  },
  {
   "cell_type": "markdown",
   "metadata": {},
   "source": [
    "# Linear Regression"
   ]
  },
  {
   "cell_type": "markdown",
   "metadata": {},
   "source": [
    "# Loading Data( Diabetes)"
   ]
  },
  {
   "cell_type": "code",
   "execution_count": 2,
   "metadata": {},
   "outputs": [],
   "source": [
    "diab = datasets.load_diabetes()\n",
    "X = diab.data[:, :2]\n",
    "y = diab.target "
   ]
  },
  {
   "cell_type": "markdown",
   "metadata": {},
   "source": [
    "## Importing the model from `./Models`"
   ]
  },
  {
   "cell_type": "code",
   "execution_count": 3,
   "metadata": {},
   "outputs": [],
   "source": [
    "from Models import linear_regression as lr"
   ]
  },
  {
   "cell_type": "code",
   "execution_count": 7,
   "metadata": {},
   "outputs": [
    {
     "name": "stdout",
     "output_type": "stream",
     "text": [
      "loss: 29074.151575515847 \t\n",
      "loss: 28966.162325238463 \t\n",
      "loss: 28861.1575383909 \t\n",
      "loss: 28756.931107188226 \t\n",
      "loss: 28656.721827430018 \t\n",
      "loss: 28552.577922024037 \t\n",
      "loss: 28452.279424439686 \t\n",
      "loss: 28350.12926124096 \t\n"
     ]
    }
   ],
   "source": [
    "model_lin = lr.LinearRegression(lr=0.01, num_iter=800, \n",
    "                             verbose=True,batch_size=1)\n",
    "model_lin.fit(X, y)"
   ]
  },
  {
   "cell_type": "markdown",
   "metadata": {},
   "source": [
    "## Evaluating our model performance "
   ]
  },
  {
   "cell_type": "code",
   "execution_count": 6,
   "metadata": {},
   "outputs": [
    {
     "name": "stdout",
     "output_type": "stream",
     "text": [
      "Our MSE is : 28275.92421\n"
     ]
    }
   ],
   "source": [
    "preds = model_lin.predict(X)\n",
    "\n",
    "print(f'Our MSE is : {((preds - y)**2).mean():.5f}')"
   ]
  },
  {
   "cell_type": "markdown",
   "metadata": {},
   "source": [
    "# Logistic Regression"
   ]
  },
  {
   "cell_type": "markdown",
   "metadata": {},
   "source": [
    "# Loading Data (Irris)"
   ]
  },
  {
   "cell_type": "code",
   "execution_count": 8,
   "metadata": {},
   "outputs": [],
   "source": [
    "iris = datasets.load_iris()\n",
    "X = iris.data[:, :2]\n",
    "y = (iris.target != 0) * 1 # just making the problem, a binary classification"
   ]
  },
  {
   "cell_type": "markdown",
   "metadata": {},
   "source": [
    "## Importing the model from `./Models`"
   ]
  },
  {
   "cell_type": "code",
   "execution_count": 9,
   "metadata": {},
   "outputs": [],
   "source": [
    "from Models import logistic_regression as log_r"
   ]
  },
  {
   "cell_type": "code",
   "execution_count": 12,
   "metadata": {},
   "outputs": [
    {
     "name": "stdout",
     "output_type": "stream",
     "text": [
      "loss: 0.6418736786316713 \t\n",
      "loss: 0.4716739625685843 \t\n",
      "loss: 0.376312985569191 \t\n",
      "loss: 0.31807775251656134 \t\n",
      "loss: 0.27266707677537405 \t\n",
      "loss: 0.24121950883675627 \t\n",
      "loss: 0.21742237845483192 \t\n",
      "loss: 0.1987802760531211 \t\n"
     ]
    }
   ],
   "source": [
    "model_log = log_r.LogisticRegression(lr=0.1, num_iter=800, \n",
    "                             verbose=True,batch_size=50)\n",
    "model_log.fit(X, y)"
   ]
  },
  {
   "cell_type": "markdown",
   "metadata": {},
   "source": [
    "## Evaluating our model performance "
   ]
  },
  {
   "cell_type": "code",
   "execution_count": 13,
   "metadata": {},
   "outputs": [
    {
     "data": {
      "text/plain": [
       "0.9933333333333333"
      ]
     },
     "execution_count": 13,
     "metadata": {},
     "output_type": "execute_result"
    }
   ],
   "source": [
    "preds = model_log.predict(X, 0.5)\n",
    "# accuracy\n",
    "(preds == y).mean()"
   ]
  },
  {
   "cell_type": "markdown",
   "metadata": {},
   "source": [
    "# K-FOLD VALIDATION "
   ]
  },
  {
   "cell_type": "markdown",
   "metadata": {},
   "source": [
    "## Linear Regression (Diabetes)"
   ]
  },
  {
   "cell_type": "code",
   "execution_count": 64,
   "metadata": {},
   "outputs": [],
   "source": [
    "diab = datasets.load_diabetes()\n",
    "X = diab.data\n",
    "y = diab.target "
   ]
  },
  {
   "cell_type": "code",
   "execution_count": 65,
   "metadata": {},
   "outputs": [],
   "source": [
    "from Models import linear_regression as lr"
   ]
  },
  {
   "cell_type": "code",
   "execution_count": 66,
   "metadata": {},
   "outputs": [],
   "source": [
    "model_lin = lr.LinearRegression(lr=0.8, num_iter=2000, \n",
    "                             verbose=False,batch_size=60)"
   ]
  },
  {
   "cell_type": "code",
   "execution_count": 67,
   "metadata": {},
   "outputs": [],
   "source": [
    "def KFoldXV(data, model, folds=5):\n",
    "    \"\"\"\n",
    "    Input :\n",
    "    -----\n",
    "    data : input dataset as tupple (X,y)\n",
    "    model : the model used on the Data\n",
    "    \n",
    "    loss : the loss function \n",
    "    folds : the number of k\n",
    "    \n",
    "    Return :\n",
    "    ------\n",
    "    \"\"\"\n",
    "    \n",
    "    X = data[0]\n",
    "    X_ = X.copy()\n",
    "    y = data[1]\n",
    "    y_ = y.copy()\n",
    "    # Split D in to k mutaully exclusive subsets(Di), which union is D\n",
    "    Di={}\n",
    "    loss = []\n",
    "    k_m = int(np.floor(X.shape[0]/folds))\n",
    "    for i in range(folds-1):\n",
    "#         ipdb.set_trace()\n",
    "        rand = np.random.choice(X_.shape[0],k_m, replace=False)\n",
    "        Di[i]=rand\n",
    "        X_ = np.delete(X_, rand, 0)\n",
    "    Di[folds-1]= np.random.choice(X_.shape[0],X_.shape[0])\n",
    "    for i in range(folds):\n",
    "        model.fit(np.delete(X, Di[i], 0), np.delete(y, Di[i], 0))\n",
    "        y_hat =  model.predict(X[rand])\n",
    "        loss.append(((y[rand]-y_hat)**2).mean()) \n",
    "    return loss"
   ]
  },
  {
   "cell_type": "code",
   "execution_count": 69,
   "metadata": {},
   "outputs": [
    {
     "data": {
      "text/plain": [
       "[3000.8136971169874,\n",
       " 2969.6937553478333,\n",
       " 3095.3350630519544,\n",
       " 3154.0615731837684,\n",
       " 3066.9571830851696]"
      ]
     },
     "execution_count": 69,
     "metadata": {},
     "output_type": "execute_result"
    }
   ],
   "source": [
    "KFoldXV((X, y), model_lin, folds=5)"
   ]
  },
  {
   "cell_type": "markdown",
   "metadata": {},
   "source": [
    "## For more than one model"
   ]
  },
  {
   "cell_type": "code",
   "execution_count": null,
   "metadata": {},
   "outputs": [],
   "source": [
    "# def KFold() :\n",
    "#     for i in range"
   ]
  },
  {
   "cell_type": "code",
   "execution_count": 74,
   "metadata": {},
   "outputs": [],
   "source": [
    " m = {0:model_lin, 1:model_lin}"
   ]
  },
  {
   "cell_type": "code",
   "execution_count": 84,
   "metadata": {},
   "outputs": [
    {
     "name": "stdout",
     "output_type": "stream",
     "text": [
      "Model 0 : \n",
      "[3081.3308932907767, 3128.2329395376423, 3168.487486972002, 3201.3032507945118, 3189.1830771612567]\n",
      "Model 1 : \n",
      "[2890.8210430423487, 2850.851047885936, 2916.4961534161866, 2945.274618378474, 2957.4181230699355]\n"
     ]
    }
   ],
   "source": [
    "for i in range(len(m)):\n",
    "    print(f'Model {i} : ')\n",
    "    print(KFoldXV((X, y), model=m[i], folds=5))"
   ]
  }
 ],
 "metadata": {
  "kernelspec": {
   "display_name": "Python 3",
   "language": "python",
   "name": "python3"
  },
  "language_info": {
   "codemirror_mode": {
    "name": "ipython",
    "version": 3
   },
   "file_extension": ".py",
   "mimetype": "text/x-python",
   "name": "python",
   "nbconvert_exporter": "python",
   "pygments_lexer": "ipython3",
   "version": "3.7.4"
  }
 },
 "nbformat": 4,
 "nbformat_minor": 4
}
